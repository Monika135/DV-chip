{
 "cells": [
  {
   "cell_type": "markdown",
   "metadata": {},
   "source": [
    "# Phase DV Chip - Detecting real life Violence using CV"
   ]
  },
  {
   "cell_type": "code",
   "execution_count": 1,
   "metadata": {},
   "outputs": [],
   "source": [
    "import os\n",
    "import cv2\n",
    "import numpy as np\n",
    "from imutils import paths"
   ]
  },
  {
   "cell_type": "code",
   "execution_count": 2,
   "metadata": {},
   "outputs": [],
   "source": [
    "from sklearn.preprocessing import LabelBinarizer"
   ]
  },
  {
   "cell_type": "markdown",
   "metadata": {},
   "source": [
    "# Importing datapath "
   ]
  },
  {
   "cell_type": "code",
   "execution_count": 3,
   "metadata": {},
   "outputs": [],
   "source": [
    "datapath=\"video dataset\"\n",
    "outputmodel=\"output\"\n",
    "outputlabelbinarizer=\"output\\videoclassificationbinarizer\""
   ]
  },
  {
   "cell_type": "code",
   "execution_count": 4,
   "metadata": {},
   "outputs": [],
   "source": [
    "import cv2\n",
    "import os\n",
    "import numpy as np\n",
    "import pickle\n",
    "import matplotlib\n",
    "matplotlib.use(\"Agg\")\n",
    "\n",
    "from keras.layers import Input\n",
    "from keras.models import Model\n",
    "from keras.layers.core import Dropout,Flatten,Dense\n",
    "\n",
    "import matplotlib.pyplot as plt"
   ]
  },
  {
   "cell_type": "code",
   "execution_count": 5,
   "metadata": {},
   "outputs": [],
   "source": [
    "mean = np.array([123.68, 116.779, 103.939][::1], dtype=\"float32\")"
   ]
  },
  {
   "cell_type": "code",
   "execution_count": 6,
   "metadata": {},
   "outputs": [
    {
     "data": {
      "text/plain": [
       "'4.5.2'"
      ]
     },
     "execution_count": 6,
     "metadata": {},
     "output_type": "execute_result"
    }
   ],
   "source": [
    "cv2.__version__"
   ]
  },
  {
   "cell_type": "markdown",
   "metadata": {},
   "source": [
    "# Predict video for Violence/Non-Violence"
   ]
  },
  {
   "cell_type": "code",
   "execution_count": 7,
   "metadata": {},
   "outputs": [],
   "source": [
    "\n",
    "import argparse\n",
    "import pickle\n",
    "import cv2\n",
    "import os\n",
    "import time \n",
    "from keras.models import load_model\n",
    "from collections import deque\n",
    "\n",
    "def print_results(video, limit=None):\n",
    "        #fig=plt.figure(figsize=(16, 30))\n",
    "        if not os.path.exists('output'):\n",
    "            os.mkdir('output')\n",
    "\n",
    "        print(\"Loading model ...\")\n",
    "        model = load_model('model (3).h5')\n",
    "        Q = deque(maxlen=128)\n",
    "        vs = cv2.VideoCapture(video)\n",
    "        writer = None\n",
    "        (W, H) = (None, None)\n",
    "        count = 0     \n",
    "        while True:\n",
    "            # read the next frame from the file\n",
    "            (grabbed, frame) = vs.read()\n",
    "\n",
    "            # if the frame was not grabbed, then we have reached the end\n",
    "            # of the stream\n",
    "            if not grabbed:\n",
    "                break\n",
    "            \n",
    "            # if the frame dimensions are empty, grab them\n",
    "            if W is None or H is None:\n",
    "                (H, W) = frame.shape[:2]\n",
    "\n",
    "            # clone the output frame, then convert it from BGR to RGB\n",
    "            # ordering, resize the frame to a fixed 128x128, and then\n",
    "            # perform mean subtraction\n",
    "\n",
    "            \n",
    "            output = frame.copy()\n",
    "           \n",
    "            frame = cv2.cvtColor(frame, cv2.COLOR_BGR2RGB)\n",
    "            frame = cv2.resize(frame, (128, 128)).astype(\"float32\")\n",
    "            frame = frame.reshape(128, 128, 3) / 255 #feature scaling \n",
    "#             frame -= mean\n",
    "\n",
    "            # make predictions on the frame and then update the predictions\n",
    "            # queue\n",
    "            preds = model.predict(np.expand_dims(frame, axis=0))[0]\n",
    "            print(\"preds\",preds)\n",
    "            Q.append(preds)\n",
    "\n",
    "            # perform prediction averaging over the current history of\n",
    "            # previous predictions\n",
    "#             results = np.array(Q).mean(axis=0)\n",
    "#             i = np.argmax(results)\n",
    "            i = (preds > 0.50)[0]\n",
    "#             print(i)\n",
    "            label = i\n",
    "\n",
    "\n",
    "            # draw the activity on the output frame\n",
    "            # prob = model.predict_proba(np.expand_dims(frame, axis=0))[0] # to show probability of frame\n",
    "#             prob = results[i]*100\n",
    "#             print(prob)\n",
    "\n",
    "            text_color = (0, 255, 0) # default : green\n",
    "\n",
    "            if label: # Violence prob\n",
    "                text_color = (0, 0, 255) # red\n",
    "\n",
    "            else:\n",
    "                text_color = (0, 255, 0)\n",
    "\n",
    "            #text = \"State : {:8} ({:3.2f}%)\".format(label,prob)\n",
    "            text = \"Violence: {}\".format(label)\n",
    "            FONT = cv2.FONT_HERSHEY_SIMPLEX \n",
    "\n",
    "            cv2.putText(output, text, (35, 50), FONT,1.25, text_color, 3) \n",
    "\n",
    "            # plot graph over background image\n",
    "#             output = cv2.rectangle(output, (35, 80), (35+int(prob)*5,80+20), text_color,-1)\n",
    "\n",
    "            # check if the video writer is None\n",
    "            if writer is None:\n",
    "                # initialize our video writer\n",
    "                fourcc = cv2.VideoWriter_fourcc(*\"MJPG\")\n",
    "                writer = cv2.VideoWriter(\"output/NV_OUTPUT.avi\", fourcc, 30,(W, H), True)\n",
    "\n",
    "            # write the output frame to disk\n",
    "            writer.write(output)\n",
    "\n",
    "            # show the output image\n",
    "            cv2.imshow(\"Output\", output)\n",
    "            key = cv2.waitKey(1) & 0xFF\n",
    "\n",
    "            # if the `q` key was pressed, break from the loop\n",
    "            if key == ord(\"q\"):\n",
    "                break\n",
    "        # release the file pointersq\n",
    "        print(\"[INFO] cleaning up...\")\n",
    "        writer.release()\n",
    "        vs.release()\n"
   ]
  },
  {
   "cell_type": "code",
   "execution_count": 8,
   "metadata": {},
   "outputs": [],
   "source": [
    "Violence=\"video dataset/Violence/V_1.mp4\""
   ]
  },
  {
   "cell_type": "code",
   "execution_count": 11,
   "metadata": {},
   "outputs": [],
   "source": [
    "Nonviolence=\"video dataset/NonViolence/NV_23.mp4\""
   ]
  },
  {
   "cell_type": "markdown",
   "metadata": {},
   "source": [
    "# Output"
   ]
  },
  {
   "cell_type": "code",
   "execution_count": 12,
   "metadata": {
    "scrolled": true
   },
   "outputs": [
    {
     "name": "stdout",
     "output_type": "stream",
     "text": [
      "Loading model ...\n",
      "preds [0.01777709]\n",
      "preds [0.0036068]\n",
      "preds [0.00569719]\n",
      "preds [0.00584787]\n",
      "preds [0.01834029]\n",
      "preds [0.01184785]\n",
      "preds [0.01605573]\n",
      "preds [0.02007926]\n",
      "preds [0.0204767]\n",
      "preds [0.0195708]\n",
      "preds [0.01302612]\n",
      "preds [0.01073775]\n",
      "preds [0.00386789]\n",
      "preds [0.00616801]\n",
      "preds [0.00287417]\n",
      "preds [0.00298986]\n",
      "preds [0.00101042]\n",
      "preds [0.00105086]\n",
      "preds [0.00402552]\n",
      "preds [0.0036093]\n",
      "preds [0.00499463]\n",
      "preds [0.00483802]\n",
      "preds [0.00289133]\n",
      "preds [0.00077283]\n",
      "preds [0.00160471]\n",
      "preds [0.00170532]\n",
      "preds [0.00459918]\n",
      "preds [0.00502861]\n",
      "preds [0.01482373]\n",
      "preds [0.00436467]\n",
      "preds [0.00414601]\n",
      "preds [0.0130707]\n",
      "preds [0.0055179]\n",
      "preds [0.00538343]\n",
      "preds [0.00307658]\n",
      "preds [0.00552428]\n",
      "preds [0.00558707]\n",
      "preds [0.00644127]\n",
      "preds [0.00424647]\n",
      "preds [0.00417534]\n",
      "preds [0.00753888]\n",
      "preds [0.0027076]\n",
      "preds [0.00173974]\n",
      "preds [0.00375986]\n",
      "preds [0.00141084]\n",
      "preds [0.00137705]\n",
      "preds [0.00066218]\n",
      "preds [0.00088677]\n",
      "preds [0.00307772]\n",
      "preds [0.00319871]\n",
      "preds [0.00209162]\n",
      "preds [0.00209045]\n",
      "preds [0.00183275]\n",
      "preds [0.00164458]\n",
      "preds [0.00172561]\n",
      "preds [0.00290713]\n",
      "preds [0.00233668]\n",
      "preds [0.00231954]\n",
      "preds [0.00057513]\n",
      "preds [0.00039831]\n",
      "preds [0.00079671]\n",
      "preds [0.00128224]\n",
      "preds [0.00148988]\n",
      "preds [0.00148484]\n",
      "preds [0.00340801]\n",
      "preds [0.00395527]\n",
      "preds [0.00104696]\n",
      "preds [0.00341722]\n",
      "preds [0.00197262]\n",
      "preds [0.00196186]\n",
      "preds [0.00190708]\n",
      "preds [0.00122172]\n",
      "preds [0.00172609]\n",
      "preds [0.00108737]\n",
      "preds [0.00104707]\n",
      "preds [0.00109029]\n",
      "preds [0.00071505]\n",
      "preds [0.00165409]\n",
      "preds [0.00060421]\n",
      "preds [0.00081891]\n",
      "preds [0.00059417]\n",
      "preds [0.00052428]\n",
      "preds [0.0004383]\n",
      "preds [0.00079295]\n",
      "preds [0.00142866]\n",
      "preds [0.00103259]\n",
      "preds [0.00034374]\n",
      "preds [0.00033355]\n",
      "preds [0.00042492]\n",
      "preds [0.00091252]\n",
      "preds [0.00018835]\n",
      "preds [0.00028437]\n",
      "preds [0.00125816]\n",
      "preds [0.00134099]\n",
      "preds [0.00089362]\n",
      "preds [0.00085253]\n",
      "preds [0.00019011]\n",
      "preds [0.00022721]\n",
      "preds [9.027115e-05]\n",
      "preds [9.242615e-05]\n",
      "preds [3.8085524e-05]\n",
      "preds [0.0001297]\n",
      "preds [0.00025582]\n",
      "preds [0.00022867]\n",
      "preds [0.00028476]\n",
      "preds [0.00028005]\n",
      "preds [0.00012994]\n",
      "preds [0.0001303]\n",
      "preds [0.00018504]\n",
      "preds [0.00010916]\n",
      "preds [0.00019127]\n",
      "preds [0.00019053]\n",
      "preds [0.00034505]\n",
      "preds [0.00033045]\n",
      "preds [0.00029904]\n",
      "preds [0.00042602]\n",
      "preds [0.00013408]\n",
      "preds [0.00013632]\n",
      "preds [0.00021055]\n",
      "preds [0.00066105]\n",
      "preds [0.00064474]\n",
      "preds [0.00048879]\n",
      "preds [0.00052387]\n",
      "preds [0.00053599]\n",
      "preds [0.00086293]\n",
      "preds [0.00196084]\n",
      "preds [0.00544354]\n",
      "preds [0.002022]\n",
      "preds [0.00451767]\n",
      "preds [0.004987]\n",
      "preds [0.00524819]\n",
      "preds [0.01373428]\n",
      "[INFO] cleaning up...\n"
     ]
    }
   ],
   "source": [
    " print_results(Nonviolence) "
   ]
  },
  {
   "cell_type": "code",
   "execution_count": null,
   "metadata": {},
   "outputs": [],
   "source": []
  }
 ],
 "metadata": {
  "kernelspec": {
   "display_name": "Python 3",
   "language": "python",
   "name": "python3"
  },
  "language_info": {
   "codemirror_mode": {
    "name": "ipython",
    "version": 3
   },
   "file_extension": ".py",
   "mimetype": "text/x-python",
   "name": "python",
   "nbconvert_exporter": "python",
   "pygments_lexer": "ipython3",
   "version": "3.8.3"
  }
 },
 "nbformat": 4,
 "nbformat_minor": 4
}
